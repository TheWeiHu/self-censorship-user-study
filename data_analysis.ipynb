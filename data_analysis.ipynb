{
 "cells": [
  {
   "cell_type": "code",
   "execution_count": 1,
   "metadata": {},
   "outputs": [],
   "source": [
    "import itertools\n",
    "import functools\n",
    "import random\n",
    "import statistics \n",
    "import collections\n",
    "\n",
    "import matplotlib.pyplot as plt\n",
    "import pandas as pd\n",
    "import numpy as np\n",
    "import seaborn as sns\n",
    "\n",
    "from elosports.elo import Elo"
   ]
  },
  {
   "cell_type": "code",
   "execution_count": 2,
   "metadata": {},
   "outputs": [],
   "source": [
    "df = pd.read_csv(\"./mturk_dataset.csv\", encoding=\"ISO-8859-1\")"
   ]
  },
  {
   "cell_type": "code",
   "execution_count": 3,
   "metadata": {},
   "outputs": [],
   "source": [
    "df[\"group_id\"] = pd.Series(itertools.chain.from_iterable([i] * 10 for i in range(5)))"
   ]
  },
  {
   "cell_type": "code",
   "execution_count": 4,
   "metadata": {
    "scrolled": true
   },
   "outputs": [],
   "source": [
    "LIKERT_SCALE_AGREE_DISAGREE = {\n",
    "    \"Disagree Strongly\": 1,\n",
    "    \"Disagree Moderately\": 2,\n",
    "    \"Disagree a Little\": 3,\n",
    "    \"Neither Agree nor Disagree\": 4,\n",
    "    \"Agree a Little\": 5,\n",
    "    \"Agree Moderately\": 6,\n",
    "    \"Agree Strongly\": 7\n",
    "}\n",
    "\n",
    "LIKERT_SCALE_NEVER_ALWAYS = {\n",
    "    \"Never\": 1,\n",
    "    \"Very Rarely\": 2,\n",
    "    \"Rarely\": 3,\n",
    "    \"Occasionally\": 4,\n",
    "    \"Frequently\": 5,\n",
    "    \"Very Frequently\": 6,\n",
    "    \"Always\": 7\n",
    "}\n",
    "\n",
    "EDUCATION_SCALE = {\n",
    "    \"Did not graduate high school\": 1,\n",
    "    \"High school or equivalent\": 2,\n",
    "    \"Associate / Bachelor's Degree\": 3,\n",
    "    \"Graduate Degree\": 4,\n",
    "}\n",
    "\n",
    "BINARY_SCALE = {\n",
    "    \"Yes\": 1,\n",
    "    \"No\": 0\n",
    "}\n",
    "\n",
    "LIKERT_SCALE_POLITICAL = {\n",
    "    \"Very Left\": 1,\n",
    "    \"Left\": 2,\n",
    "    \"Left Leaning\": 3,\n",
    "    \"Moderate\": 4,\n",
    "    \"Right Leaning\": 5,\n",
    "    \"Right\": 6,\n",
    "    \"Very Right\": 7\n",
    "}\n",
    "\n",
    "SCALES = [LIKERT_SCALE_AGREE_DISAGREE, LIKERT_SCALE_NEVER_ALWAYS, EDUCATION_SCALE, BINARY_SCALE, LIKERT_SCALE_POLITICAL]"
   ]
  },
  {
   "cell_type": "code",
   "execution_count": 5,
   "metadata": {},
   "outputs": [],
   "source": [
    "for scale in SCALES:\n",
    "    for k, v in scale.items():\n",
    "        df = df.replace(to_replace = k, value = v)"
   ]
  },
  {
   "cell_type": "code",
   "execution_count": 6,
   "metadata": {},
   "outputs": [
    {
     "data": {
      "image/png": "[encoded data removed]",
      "text/plain": [
       "<Figure size 640x480 with 1 Axes>"
      ]
     },
     "metadata": {},
     "output_type": "display_data"
    }
   ],
   "source": [
    "iq_cols = [col for col in df.columns if \"completes the image\" in col]\n",
    "\n",
    "answers = [4, 1, 2, 5, 6, 6, 3, 7, 8]\n",
    "weights = [3, 2, 1, 1, 1, 1, 1, 2, 2]\n",
    "\n",
    "df[\"iq_score\"] = 0\n",
    "for question, answer, weight in zip(iq_cols, answers, weights):\n",
    "    df[\"iq_score\"] += (df[question] == answer) * weight\n",
    "    \n",
    "plt.hist(df[\"iq_score\"], bins = 15)\n",
    "plt.show()"
   ]
  },
  {
   "cell_type": "code",
   "execution_count": 7,
   "metadata": {
    "scrolled": true
   },
   "outputs": [],
   "source": [
    "# filters out the IQ scores that are too long (these people probably were not answering properly)\n",
    "# the smallest group has 7 respondents now\n",
    "df = df[df['iq_score'] >= 5]"
   ]
  },
  {
   "cell_type": "code",
   "execution_count": 8,
   "metadata": {},
   "outputs": [],
   "source": [
    "personality_dimensions = [\"extraversion\", \"agreeableness\", \"conscientiousness\", \"neuroticism\", \"openness\"]\n",
    "big5_cols = [col for col in df.columns if \"I see myself as\" in col]"
   ]
  },
  {
   "cell_type": "code",
   "execution_count": 9,
   "metadata": {
    "scrolled": true
   },
   "outputs": [],
   "source": [
    "# sums up personality scores\n",
    "\n",
    "for dim in personality_dimensions:\n",
    "    df[dim] = 0\n",
    "    \n",
    "for i, question in enumerate(big5_cols):\n",
    "    dim = personality_dimensions[i % 5]\n",
    "    if i % 2 == 0:\n",
    "        df[dim] += df[question]\n",
    "    else:\n",
    "        df[dim] += (8 - df[question])"
   ]
  },
  {
   "cell_type": "code",
   "execution_count": 10,
   "metadata": {},
   "outputs": [],
   "source": [
    "STATEMENTS = [\n",
    "    [\n",
    "        \"[RACIAL GROUP] people are insufferable.\",\n",
    "        \"[GENDER] should not work as [JOB TITLE].\",\n",
    "        \"If companies stopped interviewing [RACIAL GROUP] people, they could probably streamline their interview process.\",\n",
    "        \"The influx of foreigners has done irreparable damage to our community.\"\n",
    "    ],\n",
    "    [\n",
    "        \"BlackLivesMatter was a movement that did more harm than good.\",\n",
    "        \"\\\"Until 1973 the American Psychiatric Association defined being gay as having a mental illness.\\\"\",\n",
    "        \"Critical Race Theory does not have any academic rigor.\",\n",
    "        \"Systemic [Racism/Sexism] is not sufficiently substantiated.\",\n",
    "        \"Colonialism has done more good than harm.\",\n",
    "        \"Blackface should not be considered cultural appropriation.\",\n",
    "        \"It is wrong that there exists a word that only members of one race can use.\"\n",
    "    ],\n",
    "    [\n",
    "        \"[SPORTS TEAM NAME] are an embarrassment to our nation!\",\n",
    "        \"[COLLEGE DEGREE] has no academic rigor. There are better paths to unemployment.\",\n",
    "        \"People who buy [PRODUCT] name, shame on you!\"\n",
    "    ],\n",
    "    [\n",
    "        \"[NAME] was the most influential and effective Presidents in modern history.\",\n",
    "        \"I support [POLITICAL PARTY NAME].\",\n",
    "        \"Hoping [POLITICAL CANDIDATE NAME] wins the next elections!\"\n",
    "    ],\n",
    "    [\n",
    "        \"Citizens -- wake up, protect your freedom!\",\n",
    "        \"Immigrants should be better welcomed.\",\n",
    "        \"When it comes to climate change, it is challenging to separate science from the politics.\",\n",
    "        \"Think for yourself instead of constantly trusting in government to do what's best for you.\",\n",
    "        \"It is unclear to what degree vaccination protects against Omicron.\"\n",
    "    ],\n",
    "]\n",
    "\n",
    "A = [[\"Immigrants should be better welcomed.\", \"Critical Race Theory does not have any academic rigor.\"], [\"Systemic [Racism/Sexism] is not sufficiently substantiated.\", \"Hoping [POLITICAL CANDIDATE NAME] wins the next elections!\"], [\"It is wrong that there exists a word that only members of one race can use.\", \"Blackface should not be considered cultural appropriation.\"], [\"Critical Race Theory does not have any academic rigor.\", \"[RACIAL GROUP] people are insufferable.\"], [\"[SPORTS TEAM NAME] are an embarrassment to our nation!\", \"Colonialism has done more good than harm.\"], [\"When it comes to climate change, it is challenging to separate science from the politics.\", \"I support [POLITICAL PARTY NAME].\"], [\"Think for yourself instead of constantly trusting in government to do what's best for you.\", \"People who buy [PRODUCT] name, shame on you!\"], [\"[COLLEGE DEGREE] has no academic rigor. There are better paths to unemployment.\", \"[SPORTS TEAM NAME] are an embarrassment to our nation!\"], [\"\\\"Until 1973 the American Psychiatric Association defined being gay as having a mental illness.\\\"\", \"[GENDER] should not work as [JOB TITLE].\"], [\"When it comes to climate change, it is challenging to separate science from the politics.\", \"[GENDER] should not work as [JOB TITLE].\"], [\"The influx of foreigners has done irreparable damage to our community.\", \"Hoping [POLITICAL CANDIDATE NAME] wins the next elections!\"], [\"[COLLEGE DEGREE] has no academic rigor. There are better paths to unemployment.\", \"Critical Race Theory does not have any academic rigor.\"], [\"If companies stopped interviewing [RACIAL GROUP] people, they could probably streamline their interview process.\", \"[SPORTS TEAM NAME] are an embarrassment to our nation!\"], [\"If companies stopped interviewing [RACIAL GROUP] people, they could probably streamline their interview process.\", \"\\\"Until 1973 the American Psychiatric Association defined being gay as having a mental illness.\\\"\"], [\"People who buy [PRODUCT] name, shame on you!\", \"[SPORTS TEAM NAME] are an embarrassment to our nation!\"]]\n",
    "B = [[\"\\\"Until 1973 the American Psychiatric Association defined being gay as having a mental illness.\\\"\", \"[COLLEGE DEGREE] has no academic rigor. There are better paths to unemployment.\"], [\"I support [POLITICAL PARTY NAME].\", \"[SPORTS TEAM NAME] are an embarrassment to our nation!\"], [\"BlackLivesMatter was a movement that did more harm than good.\", \"Systemic [Racism/Sexism] is not sufficiently substantiated.\"], [\"Hoping [POLITICAL CANDIDATE NAME] wins the next elections!\", \"People who buy [PRODUCT] name, shame on you!\"], [\"Think for yourself instead of constantly trusting in government to do what's best for you.\", \"Hoping [POLITICAL CANDIDATE NAME] wins the next elections!\"], [\"[GENDER] should not work as [JOB TITLE].\", \"Immigrants should be better welcomed.\"], [\"[GENDER] should not work as [JOB TITLE].\", \"I support [POLITICAL PARTY NAME].\"], [\"When it comes to climate change, it is challenging to separate science from the politics.\", \"[SPORTS TEAM NAME] are an embarrassment to our nation!\"], [\"The influx of foreigners has done irreparable damage to our community.\", \"BlackLivesMatter was a movement that did more harm than good.\"], [\"When it comes to climate change, it is challenging to separate science from the politics.\", \"It is unclear to what degree vaccination protects against Omicron.\"], [\"[NAME] was the most influential and effective Presidents in modern history.\", \"Hoping [POLITICAL CANDIDATE NAME] wins the next elections!\"], [\"It is wrong that there exists a word that only members of one race can use.\", \"It is unclear to what degree vaccination protects against Omicron.\"], [\"I support [POLITICAL PARTY NAME].\", \"It is wrong that there exists a word that only members of one race can use.\"], [\"I support [POLITICAL PARTY NAME].\", \"[NAME] was the most influential and effective Presidents in modern history.\"]]"
   ]
  },
  {
   "cell_type": "code",
   "execution_count": 11,
   "metadata": {},
   "outputs": [],
   "source": [
    "INDIVIDUAL_STATEMENTS = list(itertools.chain.from_iterable(STATEMENTS))\n",
    "\n",
    "def get_statement_id(statement):\n",
    "    return INDIVIDUAL_STATEMENTS.index(statement)\n",
    "\n",
    "STATEMENT_PAIRING = []\n",
    "\n",
    "for first, second in A:\n",
    "    STATEMENT_PAIRING.append((get_statement_id(first), get_statement_id(second)))\n",
    "\n",
    "for first, second in B:\n",
    "    STATEMENT_PAIRING.append((get_statement_id(first), get_statement_id(second)))"
   ]
  },
  {
   "cell_type": "code",
   "execution_count": 12,
   "metadata": {},
   "outputs": [],
   "source": [
    "ranking_rows = [col for col in df.columns if \"hesitant to\" in col or \"willing to\" in col]\n",
    "STATEMENT_SUBSET = df[ranking_rows + [\"group_id\"]]"
   ]
  },
  {
   "cell_type": "code",
   "execution_count": 13,
   "metadata": {},
   "outputs": [],
   "source": [
    "def get_match_outcomes():\n",
    "    score_list = []\n",
    "    for _ , rows in STATEMENT_SUBSET.iterrows():\n",
    "        scores = {}\n",
    "        prompts = rows[:-2]\n",
    "        \n",
    "        results = []\n",
    "        for p in prompts:\n",
    "            if \"equally\" in p:\n",
    "                results.append(-1)\n",
    "            else:\n",
    "                results.append(INDIVIDUAL_STATEMENTS.index(p))\n",
    "        for i, r in enumerate(results):\n",
    "            pair = tuple(sorted(STATEMENT_PAIRING[i]))\n",
    "            current = scores.get(pair, [0, 0])\n",
    "            if r == -1:\n",
    "                current[0] += 0.5\n",
    "                current[1] += 0.5\n",
    "            elif i < 15: \n",
    "                # We need to reverse the scores when we move from the \"hesitant to\" section \n",
    "                # to the \"willing to\" section.\n",
    "                current[pair.index(r)] += 1\n",
    "            else:\n",
    "                current[(pair.index(r) + 1) % 2] += 1\n",
    "            scores[pair] = current\n",
    "        score_list.append(scores)\n",
    "    return score_list"
   ]
  },
  {
   "cell_type": "code",
   "execution_count": 14,
   "metadata": {},
   "outputs": [],
   "source": [
    "def aggregate_match_outcomes(score_lists):\n",
    "    result = {}\n",
    "    for score_list in score_lists:\n",
    "        for k, score in score_list.items():\n",
    "            cur_sum = result.get(k, [0, 0])\n",
    "            cur_sum[0] += score[0]\n",
    "            cur_sum[1] += score[1]\n",
    "            result[k] = cur_sum\n",
    "    return result"
   ]
  },
  {
   "cell_type": "code",
   "execution_count": 15,
   "metadata": {},
   "outputs": [],
   "source": [
    "def calculate_elo(score_list):\n",
    "    elo = Elo(k = 20, homefield = 0)\n",
    "    \n",
    "    n_players = len(INDIVIDUAL_STATEMENTS)\n",
    "    aggregate_score_list = aggregate_match_outcomes(score_list)\n",
    "    random.shuffle(score_list)\n",
    "\n",
    "    for p in range(n_players):\n",
    "        elo.addPlayer(p)\n",
    "\n",
    "    for scores in score_list:\n",
    "        keys = list(scores.keys())\n",
    "        random.shuffle(keys)\n",
    "        for k in keys:\n",
    "            outcome = scores[k]\n",
    "            if outcome[0] == outcome[1]: # ignores draws\n",
    "                continue\n",
    "            elif outcome[0] > outcome[1]:\n",
    "                elo.gameOver(k[0], k[1], False)\n",
    "            else:\n",
    "                elo.gameOver(k[1], k[0], False)\n",
    "    \n",
    "    elo_map = {}\n",
    "    for team in elo.ratingDict.keys():\n",
    "        elo_map[team] = elo.ratingDict[team]\n",
    "    \n",
    "    # maps pairings to tuples of the form (expecte_win_rate, true_win_rate)\n",
    "    win_rates = {}\n",
    "    \n",
    "    for i in range(n_players):\n",
    "        for j in range(i + 1, n_players):\n",
    "            expected = elo.expectResult(elo.ratingDict[i], elo.ratingDict[j])\n",
    "            if (i, j) not in aggregate_score_list:\n",
    "                win_rates[(i, j)] = expected, None\n",
    "            else:\n",
    "                true_result = aggregate_score_list[(i,j)]\n",
    "                win_rates[(i, j)] = expected, true_result[0] / sum(true_result)\n",
    "    \n",
    "    return elo_map, win_rates"
   ]
  },
  {
   "cell_type": "code",
   "execution_count": 16,
   "metadata": {},
   "outputs": [
    {
     "name": "stdout",
     "output_type": "stream",
     "text": [
      "1640 :  Think for yourself instead of constantly trusting in government to do what's best for you.\n",
      "1637 :  I support [POLITICAL PARTY NAME].\n",
      "1636 :  Immigrants should be better welcomed.\n",
      "1605 :  Hoping [POLITICAL CANDIDATE NAME] wins the next elections!\n",
      "1604 :  [NAME] was the most influential and effective Presidents in modern history.\n",
      "1600 :  When it comes to climate change, it is challenging to separate science from the politics.\n",
      "1596 :  [SPORTS TEAM NAME] are an embarrassment to our nation!\n",
      "1539 :  It is unclear to what degree vaccination protects against Omicron.\n",
      "1539 :  [COLLEGE DEGREE] has no academic rigor. There are better paths to unemployment.\n",
      "1525 :  \"Until 1973 the American Psychiatric Association defined being gay as having a mental illness.\"\n",
      "1504 :  Critical Race Theory does not have any academic rigor.\n",
      "1500 :  Citizens -- wake up, protect your freedom!\n",
      "1476 :  Colonialism has done more good than harm.\n",
      "1453 :  The influx of foreigners has done irreparable damage to our community.\n",
      "1435 :  [GENDER] should not work as [JOB TITLE].\n",
      "1431 :  People who buy [PRODUCT] name, shame on you!\n",
      "1422 :  It is wrong that there exists a word that only members of one race can use.\n",
      "1391 :  Systemic [Racism/Sexism] is not sufficiently substantiated.\n",
      "1389 :  Blackface should not be considered cultural appropriation.\n",
      "1378 :  BlackLivesMatter was a movement that did more harm than good.\n",
      "1376 :  [RACIAL GROUP] people are insufferable.\n",
      "1325 :  If companies stopped interviewing [RACIAL GROUP] people, they could probably streamline their interview process.\n"
     ]
    }
   ],
   "source": [
    "match_outcomes = get_match_outcomes()\n",
    "    \n",
    "def print_statement_ranking_from_elo(elos):\n",
    "    elos = {k: v for k, v in reversed(sorted(elos.items(), key=lambda item: item[1]))}\n",
    "    for key in elos.keys():\n",
    "        print(round(elos[key]), \": \", INDIVIDUAL_STATEMENTS[key])\n",
    "\n",
    "agg_elos = {}\n",
    "\n",
    "for _ in range(1000):\n",
    "    elos, _ = calculate_elo(match_outcomes)\n",
    "    for k, v in elos.items():\n",
    "        temp = agg_elos.get(k, [])\n",
    "        temp.append(v)\n",
    "        agg_elos[k] = temp\n",
    "\n",
    "avg_elos = {}\n",
    "for k, v in agg_elos.items():\n",
    "    avg_elos[k] = statistics.mean(v)\n",
    "\n",
    "print_statement_ranking_from_elo(avg_elos)"
   ]
  },
  {
   "cell_type": "code",
   "execution_count": 17,
   "metadata": {},
   "outputs": [
    {
     "name": "stdout",
     "output_type": "stream",
     "text": [
      "MAE:  0.04223258609680474\n"
     ]
    }
   ],
   "source": [
    "elo = Elo(k = 20, homefield = 0)\n",
    "aggregate_score_list = aggregate_match_outcomes(get_match_outcomes())\n",
    "\n",
    "error = 0\n",
    "\n",
    "for (i, j), (a, b) in aggregate_score_list.items():\n",
    "    exp = elo.expectResult(avg_elos[i], avg_elos[j])\n",
    "    error += abs(a / (a + b) - exp)\n",
    "\n",
    "print(\"MAE: \", error / len(aggregate_score_list))"
   ]
  },
  {
   "cell_type": "code",
   "execution_count": null,
   "metadata": {},
   "outputs": [],
   "source": []
  }
 ],
 "metadata": {
  "kernelspec": {
   "display_name": "Python 3",
   "language": "python",
   "name": "python3"
  },
  "language_info": {
   "codemirror_mode": {
    "name": "ipython",
    "version": 3
   },
   "file_extension": ".py",
   "mimetype": "text/x-python",
   "name": "python",
   "nbconvert_exporter": "python",
   "pygments_lexer": "ipython3",
   "version": "3.8.5"
  }
 },
 "nbformat": 4,
 "nbformat_minor": 5
}
